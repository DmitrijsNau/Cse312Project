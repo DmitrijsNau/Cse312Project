{
 "cells": [
  {
   "cell_type": "code",
   "execution_count": 6,
   "metadata": {},
   "outputs": [
    {
     "name": "stdout",
     "output_type": "stream",
     "text": [
      "Database connection successful. Users in the database:\n",
      "User ID: 1, Name: string, Email: string\n",
      "User Model Schema:\n",
      "id: INTEGER\n",
      "name: VARCHAR\n",
      "email: VARCHAR\n",
      "hashed_password: VARCHAR\n"
     ]
    }
   ],
   "source": [
    "import sys\n",
    "sys.path.append(\"..\")\n",
    "from app.core.config import config\n",
    "from app.models.user import User, Base\n",
    "from app.core.db import get_db\n",
    "\n",
    "def confirm_db_connection():\n",
    "    db = next(get_db())\n",
    "    \n",
    "    try:\n",
    "        users = db.query(User).all()\n",
    "        print(\"Database connection successful. Users in the database:\")\n",
    "        for user in users:\n",
    "            print(f\"User ID: {user.id}, Name: {user.name}, Email: {user.email}\")\n",
    "    except Exception as e:\n",
    "        print(f\"Database connection failed: {e}\")\n",
    "    finally:\n",
    "        db.close()\n",
    "def print_user_schema():\n",
    "    print(\"User Model Schema:\")\n",
    "    for column in User.__table__.columns:\n",
    "        print(f\"{column.name}: {column.type}\")\n",
    "\n",
    "confirm_db_connection()\n",
    "print_user_schema()"
   ]
  }
 ],
 "metadata": {
  "kernelspec": {
   "display_name": ".venv",
   "language": "python",
   "name": "python3"
  },
  "language_info": {
   "codemirror_mode": {
    "name": "ipython",
    "version": 3
   },
   "file_extension": ".py",
   "mimetype": "text/x-python",
   "name": "python",
   "nbconvert_exporter": "python",
   "pygments_lexer": "ipython3",
   "version": "3.11.10"
  }
 },
 "nbformat": 4,
 "nbformat_minor": 2
}
