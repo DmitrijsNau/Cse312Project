{
 "cells": [
  {
   "cell_type": "code",
   "execution_count": null,
   "metadata": {},
   "outputs": [
    {
     "name": "stdout",
     "output_type": "stream",
     "text": [
      "Database connection successful. Users in the database:\n",
      "User Model Schema:\n",
      "id: INTEGER\n",
      "name: VARCHAR\n",
      "username: VARCHAR\n",
      "hashed_password: VARCHAR\n",
      "auth_token: VARCHAR\n",
      "token_created_at: DATETIME\n"
     ]
    }
   ],
   "source": [
    "import sys\n",
    "sys.path.append(\"..\")\n",
    "from sqlalchemy import create_engine, text\n",
    "from sqlalchemy.orm import sessionmaker\n",
    "\n",
    "from app.core.config import config\n",
    "from app.models.user import User, Base\n",
    "from app.core.db import get_db\n",
    "\n",
    "def confirm_db_connection():\n",
    "    db = next(get_db())\n",
    "    \n",
    "    try:\n",
    "        users = db.query(User).all()\n",
    "        print(\"Database connection successful. Users in the database:\")\n",
    "        for user in users:\n",
    "            print(user)\n",
    "    except Exception as e:\n",
    "        print(f\"Database connection failed: {e}\")\n",
    "    finally:\n",
    "        db.close()\n",
    "def print_user_schema():\n",
    "    print(\"User Model Schema:\")\n",
    "    for column in User.__table__.columns:\n",
    "        print(f\"{column.name}: {column.type}\")"
   ]
  },
  {
   "cell_type": "code",
   "execution_count": null,
   "metadata": {},
   "outputs": [],
   "source": []
  },
  {
   "cell_type": "code",
   "execution_count": null,
   "metadata": {},
   "outputs": [],
   "source": []
  },
  {
   "cell_type": "code",
   "execution_count": 8,
   "metadata": {},
   "outputs": [
    {
     "name": "stdout",
     "output_type": "stream",
     "text": [
      "Table 'users' exists after creation: True\n"
     ]
    }
   ],
   "source": [
    "# Create the engine and session\n",
    "engine = create_engine(config.DATABASE_URL)\n",
    "SessionLocal = sessionmaker(autocommit=False, autoflush=False, bind=engine)\n",
    "session = SessionLocal()\n",
    "\n",
    "# Drop the existing table with CASCADE\n",
    "with engine.connect() as conn:\n",
    "    conn.execute(text(\"DROP TABLE IF EXISTS users CASCADE\"))\n",
    "\n",
    "\n",
    "\n",
    "# Verify that the new table has been created\n",
    "with engine.connect() as conn:\n",
    "    result = conn.execute(text(\"SELECT * FROM information_schema.tables WHERE table_name='users'\"))\n",
    "    table_exists = result.fetchone() is not None\n",
    "    print(f\"Table 'users' exists after creation: {table_exists}\")"
   ]
  },
  {
   "cell_type": "code",
   "execution_count": 10,
   "metadata": {},
   "outputs": [],
   "source": [
    "Base.metadata.drop_all(bind=engine)"
   ]
  }
 ],
 "metadata": {
  "kernelspec": {
   "display_name": ".venv",
   "language": "python",
   "name": "python3"
  },
  "language_info": {
   "codemirror_mode": {
    "name": "ipython",
    "version": 3
   },
   "file_extension": ".py",
   "mimetype": "text/x-python",
   "name": "python",
   "nbconvert_exporter": "python",
   "pygments_lexer": "ipython3",
   "version": "3.11.10"
  }
 },
 "nbformat": 4,
 "nbformat_minor": 2
}
